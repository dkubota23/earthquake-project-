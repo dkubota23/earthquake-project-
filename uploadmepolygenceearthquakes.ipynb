{
 "cells": [
  {
   "cell_type": "code",
   "execution_count": 1,
   "metadata": {},
   "outputs": [],
   "source": [
    "# Importing numpy and pandas libraries to read the data\n",
    "\n",
    "# Suppress Warnings\n",
    "import warnings\n",
    "warnings.filterwarnings('ignore')\n",
    "\n",
    "# Import the numpy and pandas package\n",
    "import numpy as np\n",
    "import pandas as pd\n",
    "\n",
    "# Read the given CSV file, and view some sample records - assign that to a variable\n",
    "EarthquakeData = pd.read_csv(\"Polygence Natural Disaster Data - attempt 5.csv\") # Where you read in files - remember that you read data and import modules"
   ]
  },
  {
   "cell_type": "code",
   "execution_count": 2,
   "metadata": {},
   "outputs": [
    {
     "name": "stdout",
     "output_type": "stream",
     "text": [
      "<class 'pandas.core.frame.DataFrame'>\n",
      "RangeIndex: 27 entries, 0 to 26\n",
      "Data columns (total 3 columns):\n",
      " #   Column          Non-Null Count  Dtype  \n",
      "---  ------          --------------  -----  \n",
      " 0   Magnitude       27 non-null     float64\n",
      " 1   MonetaryDamage  27 non-null     int64  \n",
      " 2   Date​​          27 non-null     object \n",
      "dtypes: float64(1), int64(1), object(1)\n",
      "memory usage: 776.0+ bytes\n"
     ]
    },
    {
     "data": {
      "text/html": [
       "<div>\n",
       "<style scoped>\n",
       "    .dataframe tbody tr th:only-of-type {\n",
       "        vertical-align: middle;\n",
       "    }\n",
       "\n",
       "    .dataframe tbody tr th {\n",
       "        vertical-align: top;\n",
       "    }\n",
       "\n",
       "    .dataframe thead th {\n",
       "        text-align: right;\n",
       "    }\n",
       "</style>\n",
       "<table border=\"1\" class=\"dataframe\">\n",
       "  <thead>\n",
       "    <tr style=\"text-align: right;\">\n",
       "      <th></th>\n",
       "      <th>Magnitude</th>\n",
       "      <th>MonetaryDamage</th>\n",
       "    </tr>\n",
       "  </thead>\n",
       "  <tbody>\n",
       "    <tr>\n",
       "      <th>count</th>\n",
       "      <td>27.000000</td>\n",
       "      <td>2.700000e+01</td>\n",
       "    </tr>\n",
       "    <tr>\n",
       "      <th>mean</th>\n",
       "      <td>6.744444</td>\n",
       "      <td>5.271205e+09</td>\n",
       "    </tr>\n",
       "    <tr>\n",
       "      <th>std</th>\n",
       "      <td>0.461047</td>\n",
       "      <td>1.880574e+10</td>\n",
       "    </tr>\n",
       "    <tr>\n",
       "      <th>min</th>\n",
       "      <td>6.000000</td>\n",
       "      <td>5.000000e+04</td>\n",
       "    </tr>\n",
       "    <tr>\n",
       "      <th>25%</th>\n",
       "      <td>6.400000</td>\n",
       "      <td>1.250000e+06</td>\n",
       "    </tr>\n",
       "    <tr>\n",
       "      <th>50%</th>\n",
       "      <td>6.700000</td>\n",
       "      <td>8.000000e+06</td>\n",
       "    </tr>\n",
       "    <tr>\n",
       "      <th>75%</th>\n",
       "      <td>7.050000</td>\n",
       "      <td>4.315000e+08</td>\n",
       "    </tr>\n",
       "    <tr>\n",
       "      <th>max</th>\n",
       "      <td>7.800000</td>\n",
       "      <td>9.110000e+10</td>\n",
       "    </tr>\n",
       "  </tbody>\n",
       "</table>\n",
       "</div>"
      ],
      "text/plain": [
       "       Magnitude  MonetaryDamage\n",
       "count  27.000000    2.700000e+01\n",
       "mean    6.744444    5.271205e+09\n",
       "std     0.461047    1.880574e+10\n",
       "min     6.000000    5.000000e+04\n",
       "25%     6.400000    1.250000e+06\n",
       "50%     6.700000    8.000000e+06\n",
       "75%     7.050000    4.315000e+08\n",
       "max     7.800000    9.110000e+10"
      ]
     },
     "execution_count": 2,
     "metadata": {},
     "output_type": "execute_result"
    }
   ],
   "source": [
    "# display shape of the dataset\n",
    "EarthquakeData.shape\n",
    "\n",
    "# display info of the dataset\n",
    "EarthquakeData.info()\n",
    "\n",
    "# describe the dataset\n",
    "EarthquakeData.describe()"
   ]
  },
  {
   "cell_type": "code",
   "execution_count": 3,
   "metadata": {},
   "outputs": [],
   "source": [
    "# Creating x and y\n",
    "x = EarthquakeData['Magnitude'] # The x values will be equal to the variable magnitude\n",
    "y = EarthquakeData['MonetaryDamage'] # The y values will be equal to the variable cost - look for the column"
   ]
  },
  {
   "cell_type": "code",
   "execution_count": 4,
   "metadata": {},
   "outputs": [],
   "source": [
    "# Splitting the data into train and test sets\n",
    "from sklearn.model_selection import train_test_split\n",
    "x_train, x_test_lm, y_train, y_test_lm = train_test_split(x, y, train_size = 0.7, test_size = 0.3) # Divide the data with 3/5 going to the train set and the other 2/5 going to the test set\n",
    "# Note that there is no need for random state - don't need to randomize everything\n"
   ]
  },
  {
   "cell_type": "code",
   "execution_count": 5,
   "metadata": {},
   "outputs": [
    {
     "data": {
      "text/plain": [
       "19         200000\n",
       "5      6000000000\n",
       "26         500000\n",
       "10        2000000\n",
       "12       30000000\n",
       "0      3000000000\n",
       "17       40000000\n",
       "21          50000\n",
       "16        6000000\n",
       "14        2100000\n",
       "4        48300000\n",
       "18        8000000\n",
       "23         250000\n",
       "25         350000\n",
       "7       358000000\n",
       "6         3000000\n",
       "3     91100000000\n",
       "15       60000000\n",
       "Name: MonetaryDamage, dtype: int64"
      ]
     },
     "execution_count": 5,
     "metadata": {},
     "output_type": "execute_result"
    }
   ],
   "source": [
    "# Take a look at the train dataset\n",
    "x_train\n",
    "y_train"
   ]
  },
  {
   "cell_type": "code",
   "execution_count": 23,
   "metadata": {},
   "outputs": [],
   "source": [
    "# Importing Statsmodels.api library from Statsmodel package\n",
    "import statsmodels.api as sm\n",
    "\n",
    "# Adding a constant to get an intercept, using the Statsmodel.api library\n",
    "x_train_sm = sm.add_constant(x_train)\n",
    "# define an x test version\n",
    "x_test_sm = sm.add_constant(x_test_lm) # makes sure the size is alright"
   ]
  },
  {
   "cell_type": "code",
   "execution_count": 7,
   "metadata": {},
   "outputs": [
    {
     "name": "stdout",
     "output_type": "stream",
     "text": [
      "const        0\n",
      "Magnitude    0\n",
      "dtype: int64\n",
      "0\n"
     ]
    }
   ],
   "source": [
    "# Debugging\n",
    "print(x_train_sm.isna().sum()) # 5 magnitude errors \n",
    "print(y_train.isna().sum()) # keep the number of x and y values the same\n",
    "# Delete the pairs of x and y values with the nans (there's a missing value, either the x or the y) - check before using the cost data"
   ]
  },
  {
   "cell_type": "code",
   "execution_count": 8,
   "metadata": {},
   "outputs": [
    {
     "data": {
      "text/plain": [
       "14668805265.158705"
      ]
     },
     "execution_count": 8,
     "metadata": {},
     "output_type": "execute_result"
    }
   ],
   "source": [
    "# Fitting the resgression line using 'OLS' which stamds for ordinarily least squares\n",
    "lr = sm.OLS(y_train, x_train_sm).fit() # One of the train sets is missing data\n",
    "\n",
    "# Printing the parameters - CHECK\n",
    "lr.params.const\n",
    "lr.params.Magnitude"
   ]
  },
  {
   "cell_type": "code",
   "execution_count": 9,
   "metadata": {},
   "outputs": [
    {
     "data": {
      "text/html": [
       "<table class=\"simpletable\">\n",
       "<caption>OLS Regression Results</caption>\n",
       "<tr>\n",
       "  <th>Dep. Variable:</th>     <td>MonetaryDamage</td>  <th>  R-squared:         </th> <td>   0.081</td>\n",
       "</tr>\n",
       "<tr>\n",
       "  <th>Model:</th>                   <td>OLS</td>       <th>  Adj. R-squared:    </th> <td>   0.023</td>\n",
       "</tr>\n",
       "<tr>\n",
       "  <th>Method:</th>             <td>Least Squares</td>  <th>  F-statistic:       </th> <td>   1.407</td>\n",
       "</tr>\n",
       "<tr>\n",
       "  <th>Date:</th>             <td>Wed, 15 Feb 2023</td> <th>  Prob (F-statistic):</th>  <td> 0.253</td> \n",
       "</tr>\n",
       "<tr>\n",
       "  <th>Time:</th>                 <td>19:36:10</td>     <th>  Log-Likelihood:    </th> <td> -452.42</td>\n",
       "</tr>\n",
       "<tr>\n",
       "  <th>No. Observations:</th>      <td>    18</td>      <th>  AIC:               </th> <td>   908.8</td>\n",
       "</tr>\n",
       "<tr>\n",
       "  <th>Df Residuals:</th>          <td>    16</td>      <th>  BIC:               </th> <td>   910.6</td>\n",
       "</tr>\n",
       "<tr>\n",
       "  <th>Df Model:</th>              <td>     1</td>      <th>                     </th>     <td> </td>   \n",
       "</tr>\n",
       "<tr>\n",
       "  <th>Covariance Type:</th>      <td>nonrobust</td>    <th>                     </th>     <td> </td>   \n",
       "</tr>\n",
       "</table>\n",
       "<table class=\"simpletable\">\n",
       "<tr>\n",
       "      <td></td>         <th>coef</th>     <th>std err</th>      <th>t</th>      <th>P>|t|</th>  <th>[0.025</th>    <th>0.975]</th>  \n",
       "</tr>\n",
       "<tr>\n",
       "  <th>const</th>     <td>-9.473e+10</td> <td> 8.47e+10</td> <td>   -1.118</td> <td> 0.280</td> <td>-2.74e+11</td> <td> 8.49e+10</td>\n",
       "</tr>\n",
       "<tr>\n",
       "  <th>Magnitude</th> <td> 1.467e+10</td> <td> 1.24e+10</td> <td>    1.186</td> <td> 0.253</td> <td>-1.15e+10</td> <td> 4.09e+10</td>\n",
       "</tr>\n",
       "</table>\n",
       "<table class=\"simpletable\">\n",
       "<tr>\n",
       "  <th>Omnibus:</th>       <td>41.040</td> <th>  Durbin-Watson:     </th> <td>   2.083</td>\n",
       "</tr>\n",
       "<tr>\n",
       "  <th>Prob(Omnibus):</th> <td> 0.000</td> <th>  Jarque-Bera (JB):  </th> <td> 117.624</td>\n",
       "</tr>\n",
       "<tr>\n",
       "  <th>Skew:</th>          <td> 3.357</td> <th>  Prob(JB):          </th> <td>2.87e-26</td>\n",
       "</tr>\n",
       "<tr>\n",
       "  <th>Kurtosis:</th>      <td>13.571</td> <th>  Cond. No.          </th> <td>    119.</td>\n",
       "</tr>\n",
       "</table><br/><br/>Notes:<br/>[1] Standard Errors assume that the covariance matrix of the errors is correctly specified."
      ],
      "text/plain": [
       "<class 'statsmodels.iolib.summary.Summary'>\n",
       "\"\"\"\n",
       "                            OLS Regression Results                            \n",
       "==============================================================================\n",
       "Dep. Variable:         MonetaryDamage   R-squared:                       0.081\n",
       "Model:                            OLS   Adj. R-squared:                  0.023\n",
       "Method:                 Least Squares   F-statistic:                     1.407\n",
       "Date:                Wed, 15 Feb 2023   Prob (F-statistic):              0.253\n",
       "Time:                        19:36:10   Log-Likelihood:                -452.42\n",
       "No. Observations:                  18   AIC:                             908.8\n",
       "Df Residuals:                      16   BIC:                             910.6\n",
       "Df Model:                           1                                         \n",
       "Covariance Type:            nonrobust                                         \n",
       "==============================================================================\n",
       "                 coef    std err          t      P>|t|      [0.025      0.975]\n",
       "------------------------------------------------------------------------------\n",
       "const      -9.473e+10   8.47e+10     -1.118      0.280   -2.74e+11    8.49e+10\n",
       "Magnitude   1.467e+10   1.24e+10      1.186      0.253   -1.15e+10    4.09e+10\n",
       "==============================================================================\n",
       "Omnibus:                       41.040   Durbin-Watson:                   2.083\n",
       "Prob(Omnibus):                  0.000   Jarque-Bera (JB):              117.624\n",
       "Skew:                           3.357   Prob(JB):                     2.87e-26\n",
       "Kurtosis:                      13.571   Cond. No.                         119.\n",
       "==============================================================================\n",
       "\n",
       "Notes:\n",
       "[1] Standard Errors assume that the covariance matrix of the errors is correctly specified.\n",
       "\"\"\""
      ]
     },
     "execution_count": 9,
     "metadata": {},
     "output_type": "execute_result"
    }
   ],
   "source": [
    "# Performing a summary to list out all the different parameters of the regression line fitted\n",
    "lr.summary()\n",
    "\n",
    "# summary statistics\n",
    "# high p value means there isn't a strong enough correlation between the two variables \n",
    "# r squared value is 0 which means 0% of the data can be attributed to changes in the variable\n",
    "# F statistic has a low p-value which means it cannot be trusted"
   ]
  },
  {
   "cell_type": "code",
   "execution_count": 10,
   "metadata": {},
   "outputs": [
    {
     "data": {
      "image/png": "[encoded data removed]",
      "text/plain": [
       "<Figure size 640x480 with 1 Axes>"
      ]
     },
     "metadata": {},
     "output_type": "display_data"
    }
   ],
   "source": [
    "# Import plot\n",
    "import matplotlib.pyplot as plt\n",
    "\n",
    "# Visualizing the regression line\n",
    "plt.scatter(x_train, y_train)\n",
    "plt.plot(x_train, lr.params.const + lr.params.Magnitude*x_train, 'r') # Use the values calculated beforehand\n",
    "plt.show() # Printing out/displaying the regression line plot"
   ]
  },
  {
   "cell_type": "markdown",
   "metadata": {},
   "source": []
  },
  {
   "cell_type": "code",
   "execution_count": 18,
   "metadata": {},
   "outputs": [],
   "source": [
    "# Predicting y_value using training data of x or using the training data to then make prediction for the y\n",
    "y_train_pred = lr.predict(x_train_sm) # using model to predict y, training the x data and we need to predict the y data\n",
    "# we need to use the test data to make output\n",
    "\n",
    "# Creating residuals from the y_train data and predicted y_data\n",
    "res = (y_train - y_train_pred) # Determine how closely the two are related? - the difference in reality/actual versus predictions"
   ]
  },
  {
   "cell_type": "code",
   "execution_count": 12,
   "metadata": {},
   "outputs": [
    {
     "data": {
      "image/png": "[encoded data removed]",
      "text/plain": [
       "<Figure size 640x480 with 1 Axes>"
      ]
     },
     "metadata": {},
     "output_type": "display_data"
    }
   ],
   "source": [
    "# Plotting the histogram using the residual values\n",
    "# is it more inclined to have a smaller difference in real vs. predicted or more inclined to have a larger difference...\n",
    "import seaborn as sns # make stats graphs!\n",
    "fig = plt.figure()\n",
    "sns.distplot(res, bins = 15)\n",
    "plt.title('Error Terms', fontsize = 15) # Title of the plot\n",
    "plt.xlabel('y_train - y_train_pred', fontsize = 15) # Labelling the x-axis\n",
    "# Density is a ratio and frequency is a number?\n",
    "plt.show()\n",
    "# slight right skew but not relevant b/c most of the data is consolidated around 0, a couple outliers or are the outliers so bad that we can't ignore them?\n",
    "# 1) Edit the plots to include units and label the axes and graph title well (make data easier to interpret)\n",
    "# 2) Think about how the model would be used (how accurate would we want the model to be? how much error could we make?)"
   ]
  },
  {
   "cell_type": "code",
   "execution_count": 16,
   "metadata": {},
   "outputs": [
    {
     "data": {
      "image/png": "[encoded data removed]",
      "text/plain": [
       "<Figure size 640x480 with 1 Axes>"
      ]
     },
     "metadata": {},
     "output_type": "display_data"
    }
   ],
   "source": [
    "# Looking for any patterns in the residuals\n",
    "plt.scatter(x_train,res)\n",
    "plt.show()\n",
    "\n",
    "# adding axes are the same as earlier, residual plots should not look random (trend towards something)"
   ]
  },
  {
   "cell_type": "code",
   "execution_count": 25,
   "metadata": {},
   "outputs": [
    {
     "data": {
      "text/plain": [
       "-0.26232784729172565"
      ]
     },
     "execution_count": 25,
     "metadata": {},
     "output_type": "execute_result"
    }
   ],
   "source": [
    "# Importing r2_square\n",
    "from sklearn.metrics import r2_score\n",
    "\n",
    "y_test_pred = lr.predict(x_test_sm) \n",
    "\n",
    "# Checking the R-squared value\n",
    "r_squared = r2_score(y_test_lm, y_test_pred)\n",
    "r_squared"
   ]
  },
  {
   "cell_type": "code",
   "execution_count": 26,
   "metadata": {},
   "outputs": [
    {
     "ename": "NameError",
     "evalue": "name 'y_test' is not defined",
     "output_type": "error",
     "traceback": [
      "\u001b[0;31m---------------------------------------------------------------------------\u001b[0m",
      "\u001b[0;31mNameError\u001b[0m                                 Traceback (most recent call last)",
      "\u001b[1;32m/Users/danicabui/py_scripts/polygencefileupdated.ipynb Cell 16\u001b[0m in \u001b[0;36m<cell line: 2>\u001b[0;34m()\u001b[0m\n\u001b[1;32m      <a href='vscode-notebook-cell:/Users/danicabui/py_scripts/polygencefileupdated.ipynb#X22sZmlsZQ%3D%3D?line=0'>1</a>\u001b[0m \u001b[39m# Visualize the line on the test set\u001b[39;00m\n\u001b[0;32m----> <a href='vscode-notebook-cell:/Users/danicabui/py_scripts/polygencefileupdated.ipynb#X22sZmlsZQ%3D%3D?line=1'>2</a>\u001b[0m plt\u001b[39m.\u001b[39mscatter(x_test_lm, y_test)\n\u001b[1;32m      <a href='vscode-notebook-cell:/Users/danicabui/py_scripts/polygencefileupdated.ipynb#X22sZmlsZQ%3D%3D?line=2'>3</a>\u001b[0m plt\u001b[39m.\u001b[39mplot(x_test_lm, y_test_pred, \u001b[39m'\u001b[39m\u001b[39mr\u001b[39m\u001b[39m'\u001b[39m)\n\u001b[1;32m      <a href='vscode-notebook-cell:/Users/danicabui/py_scripts/polygencefileupdated.ipynb#X22sZmlsZQ%3D%3D?line=3'>4</a>\u001b[0m plt\u001b[39m.\u001b[39mshow()\n",
      "\u001b[0;31mNameError\u001b[0m: name 'y_test' is not defined"
     ]
    }
   ],
   "source": [
    "# Visualize the line on the test set\n",
    "plt.scatter(x_test_lm, y_test)\n",
    "plt.plot(x_test_lm, y_test_pred, 'r')\n",
    "plt.show() # Display the linear regression model using the testing data set"
   ]
  },
  {
   "cell_type": "code",
   "execution_count": null,
   "metadata": {},
   "outputs": [],
   "source": [
    "# Shape of the train set without adding column\n",
    "x_train_lm.shape\n",
    "\n",
    "# Adding additional column to the train and test data\n",
    "x_train_lm = x_train_lm.values.reshape(-1,1)\n",
    "x_test_lm = x_test_lm.values.reshape(-1,1)\n",
    "\n",
    "print(x_train_lm.shape)\n",
    "print(x_test_lm.shape)"
   ]
  },
  {
   "cell_type": "code",
   "execution_count": null,
   "metadata": {},
   "outputs": [],
   "source": [
    "\n",
    "from sklearn.linear_model import LinearRegression\n",
    "\n",
    "# Creating an object of Linear Regression\n",
    "lm = LinearRegression()\n",
    "\n",
    "# Fit the model using .fit() method\n",
    "lm.fit(x_train_lm, y_train_lm)"
   ]
  },
  {
   "cell_type": "code",
   "execution_count": null,
   "metadata": {},
   "outputs": [],
   "source": [
    "# Intercept value\n",
    "print(\"Intercept :\",lm.intercept_)\n",
    "\n",
    "# Slope value\n",
    "print('Slope :',lm.coef_)"
   ]
  },
  {
   "cell_type": "code",
   "execution_count": null,
   "metadata": {},
   "outputs": [],
   "source": [
    "# Making Predictions of y_value\n",
    "y_train_pred = lm.predict(x_train_lm)\n",
    "y_test_pred = lm.predict(x_test_lm)\n",
    "\n",
    "# Comparing the r2 value of both train and test data\n",
    "print(r2_score(y_train,y_train_pred))\n",
    "print(r2_score(y_test,y_test_pred))"
   ]
  }
 ],
 "metadata": {
  "kernelspec": {
   "display_name": "Python 3.10.6 64-bit",
   "language": "python",
   "name": "python3"
  },
  "language_info": {
   "codemirror_mode": {
    "name": "ipython",
    "version": 3
   },
   "file_extension": ".py",
   "mimetype": "text/x-python",
   "name": "python",
   "nbconvert_exporter": "python",
   "pygments_lexer": "ipython3",
   "version": "3.10.6 (v3.10.6:9c7b4bd164, Aug  1 2022, 17:13:48) [Clang 13.0.0 (clang-1300.0.29.30)]"
  },
  "orig_nbformat": 4,
  "vscode": {
   "interpreter": {
    "hash": "aee8b7b246df8f9039afb4144a1f6fd8d2ca17a180786b69acc140d282b71a49"
   }
  }
 },
 "nbformat": 4,
 "nbformat_minor": 2
}
